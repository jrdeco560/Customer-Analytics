{
  "nbformat": 4,
  "nbformat_minor": 0,
  "metadata": {
    "colab": {
      "name": "customeranalytics.ipynb",
      "version": "0.3.2",
      "provenance": [],
      "collapsed_sections": []
    },
    "kernelspec": {
      "name": "python3",
      "display_name": "Python 3"
    }
  },
  "cells": [
    {
      "cell_type": "markdown",
      "metadata": {
        "id": "Jq2BbldZbj6m",
        "colab_type": "text"
      },
      "source": [
        "#Customer Analytics"
      ]
    },
    {
      "cell_type": "markdown",
      "metadata": {
        "id": "QDh6qYSLbuNI",
        "colab_type": "text"
      },
      "source": [
        "##Load Data From My Github Account"
      ]
    },
    {
      "cell_type": "code",
      "metadata": {
        "id": "2kMipvGXQE4f",
        "colab_type": "code",
        "colab": {}
      },
      "source": [
        "%matplotlib inline\n",
        "import matplotlib.pyplot as plt\n",
        "import pandas as pd"
      ],
      "execution_count": 0,
      "outputs": []
    },
    {
      "cell_type": "code",
      "metadata": {
        "id": "mDEzCPy8QTTk",
        "colab_type": "code",
        "colab": {}
      },
      "source": [
        "url = 'https://raw.githubusercontent.com/stellahrotich/Customer-Analytics/master/customerdata.csv'\n",
        "df = pd.read_csv(url) "
      ],
      "execution_count": 0,
      "outputs": []
    },
    {
      "cell_type": "code",
      "metadata": {
        "id": "sIzyu1zJaxXQ",
        "colab_type": "code",
        "colab": {
          "base_uri": "https://localhost:8080/",
          "height": 35
        },
        "outputId": "110c5add-afa4-419e-8765-d3ff2dade3a6"
      },
      "source": [
        "df.shape"
      ],
      "execution_count": 15,
      "outputs": [
        {
          "output_type": "execute_result",
          "data": {
            "text/plain": [
              "(9134, 24)"
            ]
          },
          "metadata": {
            "tags": []
          },
          "execution_count": 15
        }
      ]
    },
    {
      "cell_type": "code",
      "metadata": {
        "id": "rahCTqA4a3oy",
        "colab_type": "code",
        "colab": {
          "base_uri": "https://localhost:8080/",
          "height": 435
        },
        "outputId": "9b8dc3e0-9a4c-49f0-9ac4-fe9de6eac5f5"
      },
      "source": [
        "df.head()"
      ],
      "execution_count": 16,
      "outputs": [
        {
          "output_type": "execute_result",
          "data": {
            "text/html": [
              "<div>\n",
              "<style scoped>\n",
              "    .dataframe tbody tr th:only-of-type {\n",
              "        vertical-align: middle;\n",
              "    }\n",
              "\n",
              "    .dataframe tbody tr th {\n",
              "        vertical-align: top;\n",
              "    }\n",
              "\n",
              "    .dataframe thead th {\n",
              "        text-align: right;\n",
              "    }\n",
              "</style>\n",
              "<table border=\"1\" class=\"dataframe\">\n",
              "  <thead>\n",
              "    <tr style=\"text-align: right;\">\n",
              "      <th></th>\n",
              "      <th>Customer</th>\n",
              "      <th>State</th>\n",
              "      <th>Customer Lifetime Value</th>\n",
              "      <th>Response</th>\n",
              "      <th>Coverage</th>\n",
              "      <th>Education</th>\n",
              "      <th>Effective To Date</th>\n",
              "      <th>EmploymentStatus</th>\n",
              "      <th>Gender</th>\n",
              "      <th>Income</th>\n",
              "      <th>Location Code</th>\n",
              "      <th>Marital Status</th>\n",
              "      <th>Monthly Premium Auto</th>\n",
              "      <th>Months Since Last Claim</th>\n",
              "      <th>Months Since Policy Inception</th>\n",
              "      <th>Number of Open Complaints</th>\n",
              "      <th>Number of Policies</th>\n",
              "      <th>Policy Type</th>\n",
              "      <th>Policy</th>\n",
              "      <th>Renew Offer Type</th>\n",
              "      <th>Sales Channel</th>\n",
              "      <th>Total Claim Amount</th>\n",
              "      <th>Vehicle Class</th>\n",
              "      <th>Vehicle Size</th>\n",
              "    </tr>\n",
              "  </thead>\n",
              "  <tbody>\n",
              "    <tr>\n",
              "      <th>0</th>\n",
              "      <td>BU79786</td>\n",
              "      <td>Washington</td>\n",
              "      <td>2763.519279</td>\n",
              "      <td>No</td>\n",
              "      <td>Basic</td>\n",
              "      <td>Bachelor</td>\n",
              "      <td>2/24/11</td>\n",
              "      <td>Employed</td>\n",
              "      <td>F</td>\n",
              "      <td>56274</td>\n",
              "      <td>Suburban</td>\n",
              "      <td>Married</td>\n",
              "      <td>69</td>\n",
              "      <td>32</td>\n",
              "      <td>5</td>\n",
              "      <td>0</td>\n",
              "      <td>1</td>\n",
              "      <td>Corporate Auto</td>\n",
              "      <td>Corporate L3</td>\n",
              "      <td>Offer1</td>\n",
              "      <td>Agent</td>\n",
              "      <td>384.811147</td>\n",
              "      <td>Two-Door Car</td>\n",
              "      <td>Medsize</td>\n",
              "    </tr>\n",
              "    <tr>\n",
              "      <th>1</th>\n",
              "      <td>QZ44356</td>\n",
              "      <td>Arizona</td>\n",
              "      <td>6979.535903</td>\n",
              "      <td>No</td>\n",
              "      <td>Extended</td>\n",
              "      <td>Bachelor</td>\n",
              "      <td>1/31/11</td>\n",
              "      <td>Unemployed</td>\n",
              "      <td>F</td>\n",
              "      <td>0</td>\n",
              "      <td>Suburban</td>\n",
              "      <td>Single</td>\n",
              "      <td>94</td>\n",
              "      <td>13</td>\n",
              "      <td>42</td>\n",
              "      <td>0</td>\n",
              "      <td>8</td>\n",
              "      <td>Personal Auto</td>\n",
              "      <td>Personal L3</td>\n",
              "      <td>Offer3</td>\n",
              "      <td>Agent</td>\n",
              "      <td>1131.464935</td>\n",
              "      <td>Four-Door Car</td>\n",
              "      <td>Medsize</td>\n",
              "    </tr>\n",
              "    <tr>\n",
              "      <th>2</th>\n",
              "      <td>AI49188</td>\n",
              "      <td>Nevada</td>\n",
              "      <td>12887.431650</td>\n",
              "      <td>No</td>\n",
              "      <td>Premium</td>\n",
              "      <td>Bachelor</td>\n",
              "      <td>2/19/11</td>\n",
              "      <td>Employed</td>\n",
              "      <td>F</td>\n",
              "      <td>48767</td>\n",
              "      <td>Suburban</td>\n",
              "      <td>Married</td>\n",
              "      <td>108</td>\n",
              "      <td>18</td>\n",
              "      <td>38</td>\n",
              "      <td>0</td>\n",
              "      <td>2</td>\n",
              "      <td>Personal Auto</td>\n",
              "      <td>Personal L3</td>\n",
              "      <td>Offer1</td>\n",
              "      <td>Agent</td>\n",
              "      <td>566.472247</td>\n",
              "      <td>Two-Door Car</td>\n",
              "      <td>Medsize</td>\n",
              "    </tr>\n",
              "    <tr>\n",
              "      <th>3</th>\n",
              "      <td>WW63253</td>\n",
              "      <td>California</td>\n",
              "      <td>7645.861827</td>\n",
              "      <td>No</td>\n",
              "      <td>Basic</td>\n",
              "      <td>Bachelor</td>\n",
              "      <td>1/20/11</td>\n",
              "      <td>Unemployed</td>\n",
              "      <td>M</td>\n",
              "      <td>0</td>\n",
              "      <td>Suburban</td>\n",
              "      <td>Married</td>\n",
              "      <td>106</td>\n",
              "      <td>18</td>\n",
              "      <td>65</td>\n",
              "      <td>0</td>\n",
              "      <td>7</td>\n",
              "      <td>Corporate Auto</td>\n",
              "      <td>Corporate L2</td>\n",
              "      <td>Offer1</td>\n",
              "      <td>Call Center</td>\n",
              "      <td>529.881344</td>\n",
              "      <td>SUV</td>\n",
              "      <td>Medsize</td>\n",
              "    </tr>\n",
              "    <tr>\n",
              "      <th>4</th>\n",
              "      <td>HB64268</td>\n",
              "      <td>Washington</td>\n",
              "      <td>2813.692575</td>\n",
              "      <td>No</td>\n",
              "      <td>Basic</td>\n",
              "      <td>Bachelor</td>\n",
              "      <td>02/03/2011</td>\n",
              "      <td>Employed</td>\n",
              "      <td>M</td>\n",
              "      <td>43836</td>\n",
              "      <td>Rural</td>\n",
              "      <td>Single</td>\n",
              "      <td>73</td>\n",
              "      <td>12</td>\n",
              "      <td>44</td>\n",
              "      <td>0</td>\n",
              "      <td>1</td>\n",
              "      <td>Personal Auto</td>\n",
              "      <td>Personal L1</td>\n",
              "      <td>Offer1</td>\n",
              "      <td>Agent</td>\n",
              "      <td>138.130879</td>\n",
              "      <td>Four-Door Car</td>\n",
              "      <td>Medsize</td>\n",
              "    </tr>\n",
              "  </tbody>\n",
              "</table>\n",
              "</div>"
            ],
            "text/plain": [
              "  Customer       State  ...  Vehicle Class Vehicle Size\n",
              "0  BU79786  Washington  ...   Two-Door Car      Medsize\n",
              "1  QZ44356     Arizona  ...  Four-Door Car      Medsize\n",
              "2  AI49188      Nevada  ...   Two-Door Car      Medsize\n",
              "3  WW63253  California  ...            SUV      Medsize\n",
              "4  HB64268  Washington  ...  Four-Door Car      Medsize\n",
              "\n",
              "[5 rows x 24 columns]"
            ]
          },
          "metadata": {
            "tags": []
          },
          "execution_count": 16
        }
      ]
    },
    {
      "cell_type": "code",
      "metadata": {
        "id": "dWQYKN_gbCDT",
        "colab_type": "code",
        "colab": {
          "base_uri": "https://localhost:8080/",
          "height": 164
        },
        "outputId": "601e2700-5583-4d77-cd32-99446dfe09de"
      },
      "source": [
        "df.columns\n"
      ],
      "execution_count": 17,
      "outputs": [
        {
          "output_type": "execute_result",
          "data": {
            "text/plain": [
              "Index(['Customer', 'State', 'Customer Lifetime Value', 'Response', 'Coverage',\n",
              "       'Education', 'Effective To Date', 'EmploymentStatus', 'Gender',\n",
              "       'Income', 'Location Code', 'Marital Status', 'Monthly Premium Auto',\n",
              "       'Months Since Last Claim', 'Months Since Policy Inception',\n",
              "       'Number of Open Complaints', 'Number of Policies', 'Policy Type',\n",
              "       'Policy', 'Renew Offer Type', 'Sales Channel', 'Total Claim Amount',\n",
              "       'Vehicle Class', 'Vehicle Size'],\n",
              "      dtype='object')"
            ]
          },
          "metadata": {
            "tags": []
          },
          "execution_count": 17
        }
      ]
    },
    {
      "cell_type": "markdown",
      "metadata": {
        "id": "8KqdaokrbaL2",
        "colab_type": "text"
      },
      "source": [
        "##Analytics on Engaged Customers\n",
        "We are going to analyze it to understand how different customers behave and react to different marketing strategies.\n",
        " Overall Engagement Rate The Response ﬁeld contains information about whether a customer responded to the marketing efforts. "
      ]
    },
    {
      "cell_type": "code",
      "metadata": {
        "id": "SB-r1ZcHbP5Y",
        "colab_type": "code",
        "colab": {
          "base_uri": "https://localhost:8080/",
          "height": 90
        },
        "outputId": "9e011b1d-3c26-4f08-9166-0665d80f3b70"
      },
      "source": [
        "# total number of customers who responded\n",
        "df.groupby('Response').count()['Customer']"
      ],
      "execution_count": 18,
      "outputs": [
        {
          "output_type": "execute_result",
          "data": {
            "text/plain": [
              "Response\n",
              "No     7826\n",
              "Yes    1308\n",
              "Name: Customer, dtype: int64"
            ]
          },
          "metadata": {
            "tags": []
          },
          "execution_count": 18
        }
      ]
    },
    {
      "cell_type": "code",
      "metadata": {
        "id": "d3EEakQvcC2U",
        "colab_type": "code",
        "colab": {
          "base_uri": "https://localhost:8080/",
          "height": 466
        },
        "outputId": "f0d13716-ede3-4222-b2b9-6f03fb2d2571"
      },
      "source": [
        "# Visualize(bar plot)\n",
        "ax = df.groupby('Response').count()['Customer'].plot( \n",
        "    kind='bar', \n",
        "    color='red', grid=True, figsize=(10, 7),\n",
        "    title='Marketing Engagement' )\n",
        "ax.set_xlabel('Engaged')\n",
        "ax.set_ylabel('Count')\n",
        "plt.show()\n",
        "\n"
      ],
      "execution_count": 23,
      "outputs": [
        {
          "output_type": "display_data",
          "data": {
            "image/png": "[encoded data removed]",
            "text/plain": [
              "<Figure size 720x504 with 1 Axes>"
            ]
          },
          "metadata": {
            "tags": []
          }
        }
      ]
    },
    {
      "cell_type": "code",
      "metadata": {
        "id": "pfdczwzicp_f",
        "colab_type": "code",
        "colab": {
          "base_uri": "https://localhost:8080/",
          "height": 90
        },
        "outputId": "2fa572ec-c2ef-48b0-a960-fadb8f27093a"
      },
      "source": [
        "# Calculate the percentages of the engaged and non-engaged customers\n",
        "df.groupby('Response').count()['Customer']/df.shape[0]"
      ],
      "execution_count": 24,
      "outputs": [
        {
          "output_type": "execute_result",
          "data": {
            "text/plain": [
              "Response\n",
              "No     0.856799\n",
              "Yes    0.143201\n",
              "Name: Customer, dtype: float64"
            ]
          },
          "metadata": {
            "tags": []
          },
          "execution_count": 24
        }
      ]
    },
    {
      "cell_type": "markdown",
      "metadata": {
        "id": "-r5gMwpIcyeA",
        "colab_type": "text"
      },
      "source": [
        "About 14% of the customers responded to the marketing calls.\n"
      ]
    },
    {
      "cell_type": "markdown",
      "metadata": {
        "id": "RJQyWWd8dACW",
        "colab_type": "text"
      },
      "source": [
        "#Engagement Rates by Offer Type \n",
        "The Renew Offer Type column in this DataFrame contains the type of there newal offer presented to the customers. We are going to look into what types of offers worked best for the engaged customers"
      ]
    },
    {
      "cell_type": "code",
      "metadata": {
        "id": "EfeQVYmgcuU5",
        "colab_type": "code",
        "colab": {
          "base_uri": "https://localhost:8080/",
          "height": 127
        },
        "outputId": "6c9115ae-e889-43cc-f445-ef3c0c8c05eb"
      },
      "source": [
        " # Get the engagement rates per renewal offer type\n",
        "by_offer_type_df = df.loc[ df['Response'] == 'Yes'\n",
        "                          # count only engaged customers \n",
        " ].groupby([ 'Renew Offer Type'\n",
        "            # engaged customers grouped by renewal offer type \n",
        " ]).count()['Customer'] / df.groupby('Renew Offer Type').count()['Customer']\n",
        "by_offer_type_df\n",
        "\n",
        "                      "
      ],
      "execution_count": 29,
      "outputs": [
        {
          "output_type": "execute_result",
          "data": {
            "text/plain": [
              "Renew Offer Type\n",
              "Offer1    0.158316\n",
              "Offer2    0.233766\n",
              "Offer3    0.020950\n",
              "Offer4         NaN\n",
              "Name: Customer, dtype: float64"
            ]
          },
          "metadata": {
            "tags": []
          },
          "execution_count": 29
        }
      ]
    },
    {
      "cell_type": "code",
      "metadata": {
        "id": "xCM4MXuFd9GI",
        "colab_type": "code",
        "colab": {
          "base_uri": "https://localhost:8080/",
          "height": 468
        },
        "outputId": "a4200290-be20-408b-b2c8-295ae34628cf"
      },
      "source": [
        "# Visualize it in a bar plot\n",
        "ax = (by_offer_type_df*100.0).plot( kind='bar', figsize=(7, 7), color='green', grid=True )\n",
        "ax.set_ylabel('Engagement Rate (%)')\n",
        "plt.show()\n"
      ],
      "execution_count": 31,
      "outputs": [
        {
          "output_type": "display_data",
          "data": {
            "image/png": "[encoded data removed]",
            "text/plain": [
              "<Figure size 504x504 with 1 Axes>"
            ]
          },
          "metadata": {
            "tags": []
          }
        }
      ]
    },
    {
      "cell_type": "markdown",
      "metadata": {
        "id": "ykQZaCEyeL-m",
        "colab_type": "text"
      },
      "source": [
        "From the analysis above,we can see that Offer2 had the highest engagement rate among the customers\n"
      ]
    },
    {
      "cell_type": "markdown",
      "metadata": {
        "id": "VcDdP6QEeYDe",
        "colab_type": "text"
      },
      "source": [
        "#Offer Type & Vehicle Class \n",
        "We are going to understand how customers with different attributes respond differently to differentmarketingmessages. Westartlookingattheengagementsratesbyeachoffertypeandvehicle class.\n"
      ]
    },
    {
      "cell_type": "code",
      "metadata": {
        "id": "PdYPzxfmeIoP",
        "colab_type": "code",
        "colab": {
          "base_uri": "https://localhost:8080/",
          "height": 311
        },
        "outputId": "fae3cc92-36d5-41f4-c3e4-8c56b6111a4c"
      },
      "source": [
        "by_offer_type_df = df.loc[ df['Response'] == 'Yes' \n",
        "                          # engaged customers \n",
        "                         ].groupby([ 'Renew Offer Type', 'Vehicle Class' \n",
        "                                    # grouping the data by these two columns\n",
        "                         ]).count()['Customer'] / df.groupby('Renew Offer Type').count()['Customer']\n",
        "# rates for each group\n",
        "5\n",
        "by_offer_type_df"
      ],
      "execution_count": 32,
      "outputs": [
        {
          "output_type": "execute_result",
          "data": {
            "text/plain": [
              "Renew Offer Type  Vehicle Class\n",
              "Offer1            Four-Door Car    0.070362\n",
              "                  Luxury Car       0.001599\n",
              "                  Luxury SUV       0.004797\n",
              "                  SUV              0.044776\n",
              "                  Sports Car       0.011194\n",
              "                  Two-Door Car     0.025586\n",
              "Offer2            Four-Door Car    0.114833\n",
              "                  Luxury Car       0.002051\n",
              "                  Luxury SUV       0.004101\n",
              "                  SUV              0.041012\n",
              "                  Sports Car       0.016405\n",
              "                  Two-Door Car     0.055366\n",
              "Offer3            Four-Door Car    0.016760\n",
              "                  Two-Door Car     0.004190\n",
              "Name: Customer, dtype: float64"
            ]
          },
          "metadata": {
            "tags": []
          },
          "execution_count": 32
        }
      ]
    },
    {
      "cell_type": "code",
      "metadata": {
        "id": "NOKOmkVnetT-",
        "colab_type": "code",
        "colab": {
          "base_uri": "https://localhost:8080/",
          "height": 175
        },
        "outputId": "0379c751-6e58-4222-fdc7-615f751178de"
      },
      "source": [
        " # Make the previous output more readable using unstack function \n",
        " # to pivot the data and extract and transform the inner-level groups to columns\n",
        "by_offer_type_df = by_offer_type_df.unstack().fillna(0)\n",
        "by_offer_type_df "
      ],
      "execution_count": 36,
      "outputs": [
        {
          "output_type": "execute_result",
          "data": {
            "text/html": [
              "<div>\n",
              "<style scoped>\n",
              "    .dataframe tbody tr th:only-of-type {\n",
              "        vertical-align: middle;\n",
              "    }\n",
              "\n",
              "    .dataframe tbody tr th {\n",
              "        vertical-align: top;\n",
              "    }\n",
              "\n",
              "    .dataframe thead th {\n",
              "        text-align: right;\n",
              "    }\n",
              "</style>\n",
              "<table border=\"1\" class=\"dataframe\">\n",
              "  <thead>\n",
              "    <tr style=\"text-align: right;\">\n",
              "      <th>Vehicle Class</th>\n",
              "      <th>Four-Door Car</th>\n",
              "      <th>Luxury Car</th>\n",
              "      <th>Luxury SUV</th>\n",
              "      <th>SUV</th>\n",
              "      <th>Sports Car</th>\n",
              "      <th>Two-Door Car</th>\n",
              "    </tr>\n",
              "    <tr>\n",
              "      <th>Renew Offer Type</th>\n",
              "      <th></th>\n",
              "      <th></th>\n",
              "      <th></th>\n",
              "      <th></th>\n",
              "      <th></th>\n",
              "      <th></th>\n",
              "    </tr>\n",
              "  </thead>\n",
              "  <tbody>\n",
              "    <tr>\n",
              "      <th>Offer1</th>\n",
              "      <td>0.070362</td>\n",
              "      <td>0.001599</td>\n",
              "      <td>0.004797</td>\n",
              "      <td>0.044776</td>\n",
              "      <td>0.011194</td>\n",
              "      <td>0.025586</td>\n",
              "    </tr>\n",
              "    <tr>\n",
              "      <th>Offer2</th>\n",
              "      <td>0.114833</td>\n",
              "      <td>0.002051</td>\n",
              "      <td>0.004101</td>\n",
              "      <td>0.041012</td>\n",
              "      <td>0.016405</td>\n",
              "      <td>0.055366</td>\n",
              "    </tr>\n",
              "    <tr>\n",
              "      <th>Offer3</th>\n",
              "      <td>0.016760</td>\n",
              "      <td>0.000000</td>\n",
              "      <td>0.000000</td>\n",
              "      <td>0.000000</td>\n",
              "      <td>0.000000</td>\n",
              "      <td>0.004190</td>\n",
              "    </tr>\n",
              "  </tbody>\n",
              "</table>\n",
              "</div>"
            ],
            "text/plain": [
              "Vehicle Class     Four-Door Car  Luxury Car  ...  Sports Car  Two-Door Car\n",
              "Renew Offer Type                             ...                          \n",
              "Offer1                 0.070362    0.001599  ...    0.011194      0.025586\n",
              "Offer2                 0.114833    0.002051  ...    0.016405      0.055366\n",
              "Offer3                 0.016760    0.000000  ...    0.000000      0.004190\n",
              "\n",
              "[3 rows x 6 columns]"
            ]
          },
          "metadata": {
            "tags": []
          },
          "execution_count": 36
        }
      ]
    },
    {
      "cell_type": "code",
      "metadata": {
        "id": "F_iHuX1xe6bU",
        "colab_type": "code",
        "colab": {
          "base_uri": "https://localhost:8080/",
          "height": 468
        },
        "outputId": "329523aa-4cf9-4777-9f3a-579fa1ab8074"
      },
      "source": [
        "# Visualize this data in bar plot\n",
        "ax = (by_offer_type_df*100.0).plot( kind='bar', figsize=(10, 7), grid=True )\n",
        "ax.set_ylabel('Engagement Rate (%)')\n",
        "plt.show()\n"
      ],
      "execution_count": 37,
      "outputs": [
        {
          "output_type": "display_data",
          "data": {
            "image/png": "[encoded data removed]",
            "text/plain": [
              "<Figure size 720x504 with 1 Axes>"
            ]
          },
          "metadata": {
            "tags": []
          }
        }
      ]
    },
    {
      "cell_type": "markdown",
      "metadata": {
        "id": "ZjTNiYKhfHT6",
        "colab_type": "text"
      },
      "source": [
        "#Engagement Rates by Sales Channel \n",
        "We are going to analyze how engagement rates differ by different sales channels."
      ]
    },
    {
      "cell_type": "code",
      "metadata": {
        "id": "bazM3cTbfGoa",
        "colab_type": "code",
        "colab": {
          "base_uri": "https://localhost:8080/",
          "height": 274
        },
        "outputId": "c68de376-7301-4ecb-d129-347cb4fc8b25"
      },
      "source": [
        "by_sales_channel_df = df.loc[ df['Response'] == 'Yes' ].groupby([ 'Sales Channel', 'Vehicle Size' ]).count()['Customer'] / df.groupby('Sales Channel').count()['Customer']\n",
        "by_sales_channel_df\n"
      ],
      "execution_count": 38,
      "outputs": [
        {
          "output_type": "execute_result",
          "data": {
            "text/plain": [
              "Sales Channel  Vehicle Size\n",
              "Agent          Large           0.020708\n",
              "               Medsize         0.144953\n",
              "               Small           0.025884\n",
              "Branch         Large           0.021036\n",
              "               Medsize         0.074795\n",
              "               Small           0.018699\n",
              "Call Center    Large           0.013598\n",
              "               Medsize         0.067989\n",
              "               Small           0.027195\n",
              "Web            Large           0.013585\n",
              "               Medsize         0.095094\n",
              "               Small           0.009057\n",
              "Name: Customer, dtype: float64"
            ]
          },
          "metadata": {
            "tags": []
          },
          "execution_count": 38
        }
      ]
    },
    {
      "cell_type": "code",
      "metadata": {
        "id": "5T36icC3fR0Z",
        "colab_type": "code",
        "colab": {
          "base_uri": "https://localhost:8080/",
          "height": 206
        },
        "outputId": "9ac04502-c844-48e1-bf59-24ba440afd97"
      },
      "source": [
        "# Unstack the data into a more visible format\n",
        "by_sales_channel_df = by_sales_channel_df.unstack().fillna(0) \n",
        "by_sales_channel_df\n"
      ],
      "execution_count": 40,
      "outputs": [
        {
          "output_type": "execute_result",
          "data": {
            "text/html": [
              "<div>\n",
              "<style scoped>\n",
              "    .dataframe tbody tr th:only-of-type {\n",
              "        vertical-align: middle;\n",
              "    }\n",
              "\n",
              "    .dataframe tbody tr th {\n",
              "        vertical-align: top;\n",
              "    }\n",
              "\n",
              "    .dataframe thead th {\n",
              "        text-align: right;\n",
              "    }\n",
              "</style>\n",
              "<table border=\"1\" class=\"dataframe\">\n",
              "  <thead>\n",
              "    <tr style=\"text-align: right;\">\n",
              "      <th>Vehicle Size</th>\n",
              "      <th>Large</th>\n",
              "      <th>Medsize</th>\n",
              "      <th>Small</th>\n",
              "    </tr>\n",
              "    <tr>\n",
              "      <th>Sales Channel</th>\n",
              "      <th></th>\n",
              "      <th></th>\n",
              "      <th></th>\n",
              "    </tr>\n",
              "  </thead>\n",
              "  <tbody>\n",
              "    <tr>\n",
              "      <th>Agent</th>\n",
              "      <td>0.020708</td>\n",
              "      <td>0.144953</td>\n",
              "      <td>0.025884</td>\n",
              "    </tr>\n",
              "    <tr>\n",
              "      <th>Branch</th>\n",
              "      <td>0.021036</td>\n",
              "      <td>0.074795</td>\n",
              "      <td>0.018699</td>\n",
              "    </tr>\n",
              "    <tr>\n",
              "      <th>Call Center</th>\n",
              "      <td>0.013598</td>\n",
              "      <td>0.067989</td>\n",
              "      <td>0.027195</td>\n",
              "    </tr>\n",
              "    <tr>\n",
              "      <th>Web</th>\n",
              "      <td>0.013585</td>\n",
              "      <td>0.095094</td>\n",
              "      <td>0.009057</td>\n",
              "    </tr>\n",
              "  </tbody>\n",
              "</table>\n",
              "</div>"
            ],
            "text/plain": [
              "Vehicle Size      Large   Medsize     Small\n",
              "Sales Channel                              \n",
              "Agent          0.020708  0.144953  0.025884\n",
              "Branch         0.021036  0.074795  0.018699\n",
              "Call Center    0.013598  0.067989  0.027195\n",
              "Web            0.013585  0.095094  0.009057"
            ]
          },
          "metadata": {
            "tags": []
          },
          "execution_count": 40
        }
      ]
    },
    {
      "cell_type": "code",
      "metadata": {
        "id": "kSdetb_CfVJh",
        "colab_type": "code",
        "colab": {
          "base_uri": "https://localhost:8080/",
          "height": 491
        },
        "outputId": "0b0b1c50-4b2c-45f9-d591-455376a76d7e"
      },
      "source": [
        "ax = (by_sales_channel_df*100.0).plot( kind='bar', figsize=(10, 7),\n",
        "grid=True\n",
        ")\n",
        "ax.set_ylabel('Engagement Rate (%)')\n",
        "plt.show()\n"
      ],
      "execution_count": 43,
      "outputs": [
        {
          "output_type": "display_data",
          "data": {
            "image/png": "[encoded data removed]",
            "text/plain": [
              "<Figure size 720x504 with 1 Axes>"
            ]
          },
          "metadata": {
            "tags": []
          }
        }
      ]
    },
    {
      "cell_type": "markdown",
      "metadata": {
        "id": "G7sf1beufm-O",
        "colab_type": "text"
      },
      "source": [
        "As we can see, customers with medium size vehicles respond the best to all sales channels whereas the other customers differs slightly in terms of engagement rates across different sales channels"
      ]
    },
    {
      "cell_type": "markdown",
      "metadata": {
        "id": "r2ANZ2r3fyQm",
        "colab_type": "text"
      },
      "source": [
        "#Engagement Rates by Months Since Policy Inception"
      ]
    },
    {
      "cell_type": "code",
      "metadata": {
        "id": "OT50pfygfhyI",
        "colab_type": "code",
        "colab": {
          "base_uri": "https://localhost:8080/",
          "height": 1000
        },
        "outputId": "bfc3cdef-ca76-4580-a521-f7e9b07f70f8"
      },
      "source": [
        " by_months_since_inception_df = df.loc[ df['Response'] == 'Yes' ].groupby( by='Months Since Policy Inception' )['Response'].count() / df.groupby( by='Months Since Policy Inception' )['Response'].count() * 100.0\n",
        "10\n",
        "by_months_since_inception_df.fillna(0)\n"
      ],
      "execution_count": 44,
      "outputs": [
        {
          "output_type": "execute_result",
          "data": {
            "text/plain": [
              "Months Since Policy Inception\n",
              "0     14.457831\n",
              "1     14.117647\n",
              "2     20.224719\n",
              "3     26.315789\n",
              "4     19.780220\n",
              "5      6.896552\n",
              "6      0.000000\n",
              "7      7.594937\n",
              "8      7.407407\n",
              "9     18.750000\n",
              "10    15.789474\n",
              "11    17.307692\n",
              "12     6.000000\n",
              "13    14.814815\n",
              "14     0.000000\n",
              "15    22.018349\n",
              "16     0.000000\n",
              "17    11.881188\n",
              "18    13.333333\n",
              "19    16.981132\n",
              "20    11.650485\n",
              "21    11.428571\n",
              "22    12.903226\n",
              "23    20.454545\n",
              "24    21.951220\n",
              "25    13.483146\n",
              "26    15.000000\n",
              "27    12.371134\n",
              "28    17.475728\n",
              "29    12.244898\n",
              "        ...    \n",
              "70    23.529412\n",
              "71    12.000000\n",
              "72    23.762376\n",
              "73     6.818182\n",
              "74    19.780220\n",
              "75     6.122449\n",
              "76     6.976744\n",
              "77    18.947368\n",
              "78     7.317073\n",
              "79    11.881188\n",
              "80    16.438356\n",
              "81    15.789474\n",
              "82     0.000000\n",
              "83    24.000000\n",
              "84     6.000000\n",
              "85    14.117647\n",
              "86     0.000000\n",
              "87     7.894737\n",
              "88     7.894737\n",
              "89    18.556701\n",
              "90    14.285714\n",
              "91     8.000000\n",
              "92    16.216216\n",
              "93    26.666667\n",
              "94    25.000000\n",
              "95    15.584416\n",
              "96    17.910448\n",
              "97     0.000000\n",
              "98     0.000000\n",
              "99     7.692308\n",
              "Name: Response, Length: 100, dtype: float64"
            ]
          },
          "metadata": {
            "tags": []
          },
          "execution_count": 44
        }
      ]
    },
    {
      "cell_type": "code",
      "metadata": {
        "id": "gR_nnJyrgRMc",
        "colab_type": "code",
        "colab": {
          "base_uri": "https://localhost:8080/",
          "height": 458
        },
        "outputId": "0215d298-2389-48c8-b8a6-9d136c7e0aa0"
      },
      "source": [
        " ax = by_months_since_inception_df.fillna(0).plot( figsize=(10, 7),\n",
        " title='Engagement Rates by Months Since Inception', grid=True, color='blue' )\n",
        "ax.set_xlabel('Months Since Policy Inception') \n",
        "ax.set_ylabel('Engagement Rate (%)')\n",
        "plt.show()\n"
      ],
      "execution_count": 49,
      "outputs": [
        {
          "output_type": "display_data",
          "data": {
            "image/png": "[encoded data removed]",
            "text/plain": [
              "<Figure size 720x504 with 1 Axes>"
            ]
          },
          "metadata": {
            "tags": []
          }
        }
      ]
    },
    {
      "cell_type": "markdown",
      "metadata": {
        "id": "89V8yrz5gmQl",
        "colab_type": "text"
      },
      "source": [
        "#Customer Segmentation by CLV & Months Since Policy Inception\n"
      ]
    },
    {
      "cell_type": "code",
      "metadata": {
        "id": "3hZJHIfygfSd",
        "colab_type": "code",
        "colab": {
          "base_uri": "https://localhost:8080/",
          "height": 182
        },
        "outputId": "d9e2eea6-52eb-46a2-861d-a8f49540cec7"
      },
      "source": [
        " # Take a look at the distribution of the CLV\n",
        "df['Customer Lifetime Value'].describe() "
      ],
      "execution_count": 51,
      "outputs": [
        {
          "output_type": "execute_result",
          "data": {
            "text/plain": [
              "count     9134.000000\n",
              "mean      8004.940475\n",
              "std       6870.967608\n",
              "min       1898.007675\n",
              "25%       3994.251794\n",
              "50%       5780.182197\n",
              "75%       8962.167041\n",
              "max      83325.381190\n",
              "Name: Customer Lifetime Value, dtype: float64"
            ]
          },
          "metadata": {
            "tags": []
          },
          "execution_count": 51
        }
      ]
    },
    {
      "cell_type": "code",
      "metadata": {
        "id": "9a8ftuJEg05w",
        "colab_type": "code",
        "colab": {}
      },
      "source": [
        " df['CLV Segment'] = df['Customer Lifetime Value'].apply( lambda x: 'High' if x > \n",
        " df['Customer Lifetime Value'].median() else 'Low' )"
      ],
      "execution_count": 0,
      "outputs": []
    },
    {
      "cell_type": "code",
      "metadata": {
        "id": "u5mD5MzthAM0",
        "colab_type": "code",
        "colab": {
          "base_uri": "https://localhost:8080/",
          "height": 182
        },
        "outputId": "bc5803e5-7a4f-4652-a408-61740464770d"
      },
      "source": [
        " # Do the same procedure for Months Since Policy Inception\n",
        "df['Months Since Policy Inception'].describe() "
      ],
      "execution_count": 54,
      "outputs": [
        {
          "output_type": "execute_result",
          "data": {
            "text/plain": [
              "count    9134.000000\n",
              "mean       48.064594\n",
              "std        27.905991\n",
              "min         0.000000\n",
              "25%        24.000000\n",
              "50%        48.000000\n",
              "75%        71.000000\n",
              "max        99.000000\n",
              "Name: Months Since Policy Inception, dtype: float64"
            ]
          },
          "metadata": {
            "tags": []
          },
          "execution_count": 54
        }
      ]
    },
    {
      "cell_type": "code",
      "metadata": {
        "id": "GE6tnaHUhBg5",
        "colab_type": "code",
        "colab": {}
      },
      "source": [
        " df['Policy Age Segment'] = df['Months Since Policy Inception'].apply( lambda x: 'High' if x > \n",
        " df['Months Since Policy Inception'].median() else 'Low' )"
      ],
      "execution_count": 0,
      "outputs": []
    },
    {
      "cell_type": "code",
      "metadata": {
        "id": "AUYNxgtChK1G",
        "colab_type": "code",
        "colab": {
          "base_uri": "https://localhost:8080/",
          "height": 435
        },
        "outputId": "757378a1-1728-49d8-c879-74b83bf0c015"
      },
      "source": [
        "df.head() "
      ],
      "execution_count": 57,
      "outputs": [
        {
          "output_type": "execute_result",
          "data": {
            "text/html": [
              "<div>\n",
              "<style scoped>\n",
              "    .dataframe tbody tr th:only-of-type {\n",
              "        vertical-align: middle;\n",
              "    }\n",
              "\n",
              "    .dataframe tbody tr th {\n",
              "        vertical-align: top;\n",
              "    }\n",
              "\n",
              "    .dataframe thead th {\n",
              "        text-align: right;\n",
              "    }\n",
              "</style>\n",
              "<table border=\"1\" class=\"dataframe\">\n",
              "  <thead>\n",
              "    <tr style=\"text-align: right;\">\n",
              "      <th></th>\n",
              "      <th>Customer</th>\n",
              "      <th>State</th>\n",
              "      <th>Customer Lifetime Value</th>\n",
              "      <th>Response</th>\n",
              "      <th>Coverage</th>\n",
              "      <th>Education</th>\n",
              "      <th>Effective To Date</th>\n",
              "      <th>EmploymentStatus</th>\n",
              "      <th>Gender</th>\n",
              "      <th>Income</th>\n",
              "      <th>Location Code</th>\n",
              "      <th>Marital Status</th>\n",
              "      <th>Monthly Premium Auto</th>\n",
              "      <th>Months Since Last Claim</th>\n",
              "      <th>Months Since Policy Inception</th>\n",
              "      <th>Number of Open Complaints</th>\n",
              "      <th>Number of Policies</th>\n",
              "      <th>Policy Type</th>\n",
              "      <th>Policy</th>\n",
              "      <th>Renew Offer Type</th>\n",
              "      <th>Sales Channel</th>\n",
              "      <th>Total Claim Amount</th>\n",
              "      <th>Vehicle Class</th>\n",
              "      <th>Vehicle Size</th>\n",
              "      <th>CLV Segment</th>\n",
              "      <th>Policy Age Segment</th>\n",
              "    </tr>\n",
              "  </thead>\n",
              "  <tbody>\n",
              "    <tr>\n",
              "      <th>0</th>\n",
              "      <td>BU79786</td>\n",
              "      <td>Washington</td>\n",
              "      <td>2763.519279</td>\n",
              "      <td>No</td>\n",
              "      <td>Basic</td>\n",
              "      <td>Bachelor</td>\n",
              "      <td>2/24/11</td>\n",
              "      <td>Employed</td>\n",
              "      <td>F</td>\n",
              "      <td>56274</td>\n",
              "      <td>Suburban</td>\n",
              "      <td>Married</td>\n",
              "      <td>69</td>\n",
              "      <td>32</td>\n",
              "      <td>5</td>\n",
              "      <td>0</td>\n",
              "      <td>1</td>\n",
              "      <td>Corporate Auto</td>\n",
              "      <td>Corporate L3</td>\n",
              "      <td>Offer1</td>\n",
              "      <td>Agent</td>\n",
              "      <td>384.811147</td>\n",
              "      <td>Two-Door Car</td>\n",
              "      <td>Medsize</td>\n",
              "      <td>Low</td>\n",
              "      <td>Low</td>\n",
              "    </tr>\n",
              "    <tr>\n",
              "      <th>1</th>\n",
              "      <td>QZ44356</td>\n",
              "      <td>Arizona</td>\n",
              "      <td>6979.535903</td>\n",
              "      <td>No</td>\n",
              "      <td>Extended</td>\n",
              "      <td>Bachelor</td>\n",
              "      <td>1/31/11</td>\n",
              "      <td>Unemployed</td>\n",
              "      <td>F</td>\n",
              "      <td>0</td>\n",
              "      <td>Suburban</td>\n",
              "      <td>Single</td>\n",
              "      <td>94</td>\n",
              "      <td>13</td>\n",
              "      <td>42</td>\n",
              "      <td>0</td>\n",
              "      <td>8</td>\n",
              "      <td>Personal Auto</td>\n",
              "      <td>Personal L3</td>\n",
              "      <td>Offer3</td>\n",
              "      <td>Agent</td>\n",
              "      <td>1131.464935</td>\n",
              "      <td>Four-Door Car</td>\n",
              "      <td>Medsize</td>\n",
              "      <td>High</td>\n",
              "      <td>Low</td>\n",
              "    </tr>\n",
              "    <tr>\n",
              "      <th>2</th>\n",
              "      <td>AI49188</td>\n",
              "      <td>Nevada</td>\n",
              "      <td>12887.431650</td>\n",
              "      <td>No</td>\n",
              "      <td>Premium</td>\n",
              "      <td>Bachelor</td>\n",
              "      <td>2/19/11</td>\n",
              "      <td>Employed</td>\n",
              "      <td>F</td>\n",
              "      <td>48767</td>\n",
              "      <td>Suburban</td>\n",
              "      <td>Married</td>\n",
              "      <td>108</td>\n",
              "      <td>18</td>\n",
              "      <td>38</td>\n",
              "      <td>0</td>\n",
              "      <td>2</td>\n",
              "      <td>Personal Auto</td>\n",
              "      <td>Personal L3</td>\n",
              "      <td>Offer1</td>\n",
              "      <td>Agent</td>\n",
              "      <td>566.472247</td>\n",
              "      <td>Two-Door Car</td>\n",
              "      <td>Medsize</td>\n",
              "      <td>High</td>\n",
              "      <td>Low</td>\n",
              "    </tr>\n",
              "    <tr>\n",
              "      <th>3</th>\n",
              "      <td>WW63253</td>\n",
              "      <td>California</td>\n",
              "      <td>7645.861827</td>\n",
              "      <td>No</td>\n",
              "      <td>Basic</td>\n",
              "      <td>Bachelor</td>\n",
              "      <td>1/20/11</td>\n",
              "      <td>Unemployed</td>\n",
              "      <td>M</td>\n",
              "      <td>0</td>\n",
              "      <td>Suburban</td>\n",
              "      <td>Married</td>\n",
              "      <td>106</td>\n",
              "      <td>18</td>\n",
              "      <td>65</td>\n",
              "      <td>0</td>\n",
              "      <td>7</td>\n",
              "      <td>Corporate Auto</td>\n",
              "      <td>Corporate L2</td>\n",
              "      <td>Offer1</td>\n",
              "      <td>Call Center</td>\n",
              "      <td>529.881344</td>\n",
              "      <td>SUV</td>\n",
              "      <td>Medsize</td>\n",
              "      <td>High</td>\n",
              "      <td>High</td>\n",
              "    </tr>\n",
              "    <tr>\n",
              "      <th>4</th>\n",
              "      <td>HB64268</td>\n",
              "      <td>Washington</td>\n",
              "      <td>2813.692575</td>\n",
              "      <td>No</td>\n",
              "      <td>Basic</td>\n",
              "      <td>Bachelor</td>\n",
              "      <td>02/03/2011</td>\n",
              "      <td>Employed</td>\n",
              "      <td>M</td>\n",
              "      <td>43836</td>\n",
              "      <td>Rural</td>\n",
              "      <td>Single</td>\n",
              "      <td>73</td>\n",
              "      <td>12</td>\n",
              "      <td>44</td>\n",
              "      <td>0</td>\n",
              "      <td>1</td>\n",
              "      <td>Personal Auto</td>\n",
              "      <td>Personal L1</td>\n",
              "      <td>Offer1</td>\n",
              "      <td>Agent</td>\n",
              "      <td>138.130879</td>\n",
              "      <td>Four-Door Car</td>\n",
              "      <td>Medsize</td>\n",
              "      <td>Low</td>\n",
              "      <td>Low</td>\n",
              "    </tr>\n",
              "  </tbody>\n",
              "</table>\n",
              "</div>"
            ],
            "text/plain": [
              "  Customer       State  ...  CLV Segment Policy Age Segment\n",
              "0  BU79786  Washington  ...          Low                Low\n",
              "1  QZ44356     Arizona  ...         High                Low\n",
              "2  AI49188      Nevada  ...         High                Low\n",
              "3  WW63253  California  ...         High               High\n",
              "4  HB64268  Washington  ...          Low                Low\n",
              "\n",
              "[5 rows x 26 columns]"
            ]
          },
          "metadata": {
            "tags": []
          },
          "execution_count": 57
        }
      ]
    },
    {
      "cell_type": "code",
      "metadata": {
        "id": "Acod_L7hhi_v",
        "colab_type": "code",
        "colab": {
          "base_uri": "https://localhost:8080/",
          "height": 458
        },
        "outputId": "f46894f3-2108-4255-8bfa-9971dbe5c6d8"
      },
      "source": [
        " # Visualize these segments\n",
        "ax = df.loc[ \n",
        "    (df['CLV Segment'] == 'High') & (df['Policy Age Segment'] == 'High') \n",
        "].plot.scatter( \n",
        "    x='Months Since Policy Inception', \n",
        "    y='Customer Lifetime Value', \n",
        "    logy=True, \n",
        "    color='green' )\n",
        "df.loc[ (df['CLV Segment'] == 'Low') & (df['Policy Age Segment'] == 'High')\n",
        "          ].plot.scatter( ax=ax, \n",
        "                         x='Months Since Policy Inception', \n",
        "                         y='Customer Lifetime Value', \n",
        "                         logy=True,\n",
        "                         color='blue' )\n",
        "df.loc[ (df['CLV Segment'] == 'High') & (df['Policy Age Segment'] == 'Low') \n",
        "          ].plot.scatter( ax=ax,\n",
        "                         x='Months Since Policy Inception',\n",
        "                         y='Customer Lifetime Value', \n",
        "                         logy=True, \n",
        "                         color='yellow' )\n",
        "df.loc[ (df['CLV Segment'] == 'Low') & (df['Policy Age Segment'] == 'Low') \n",
        "          ].plot.scatter( ax=ax,\n",
        "                         x='Months Since Policy Inception',\n",
        "                         y='Customer Lifetime Value', \n",
        "                         logy=True, \n",
        "                         color='red', \n",
        "                         grid=True,\n",
        "                         figsize=(10, 7))\n",
        "\n",
        "ax.set_ylabel('CLV (in log scale)') \n",
        "ax.set_xlabel('Months Since Policy Inception')\n",
        "ax.set_title('Segments by CLV and Policy Age')\n",
        "plt.show()\n",
        "\n",
        "\n",
        "\n"
      ],
      "execution_count": 88,
      "outputs": [
        {
          "output_type": "display_data",
          "data": {
            "image/png": "[encoded data removed]",
            "text/plain": [
              "<Figure size 720x504 with 1 Axes>"
            ]
          },
          "metadata": {
            "tags": []
          }
        }
      ]
    },
    {
      "cell_type": "code",
      "metadata": {
        "id": "Vlv4KN9Imgm3",
        "colab_type": "code",
        "colab": {
          "base_uri": "https://localhost:8080/",
          "height": 127
        },
        "outputId": "84911cf6-df88-41ed-a5e5-d39335b65914"
      },
      "source": [
        "# See whether there is any noticeable difference in the engagement rates among these four segments\n",
        "engagement_rates_by_segment_df = df.loc[ df['Response'] == 'Yes' ].groupby([\n",
        "'CLV Segment', 'Policy Age Segment' ]). count()['Customer'] / df.groupby([ 'CLV Segment', 'Policy Age Segment' ]).count()['Customer']\n",
        "engagement_rates_by_segment_df\n"
      ],
      "execution_count": 89,
      "outputs": [
        {
          "output_type": "execute_result",
          "data": {
            "text/plain": [
              "CLV Segment  Policy Age Segment\n",
              "High         High                  0.138728\n",
              "             Low                   0.132067\n",
              "Low          High                  0.162450\n",
              "             Low                   0.139957\n",
              "Name: Customer, dtype: float64"
            ]
          },
          "metadata": {
            "tags": []
          },
          "execution_count": 89
        }
      ]
    },
    {
      "cell_type": "code",
      "metadata": {
        "id": "48mFm7nPm7P_",
        "colab_type": "code",
        "colab": {
          "base_uri": "https://localhost:8080/",
          "height": 472
        },
        "outputId": "d7a59f64-8f3b-4270-dfbf-29b84e79351b"
      },
      "source": [
        "# Look at these differences in a chart\n",
        "ax = (engagement_rates_by_segment_df.unstack()*100.0).plot( kind='bar', figsize=(10, 7), grid=True )\n",
        "ax.set_ylabel('Engagement Rate (%)') \n",
        "ax.set_title('Engagement Rates by Customer Segments')\n",
        "plt.show()\n"
      ],
      "execution_count": 91,
      "outputs": [
        {
          "output_type": "display_data",
          "data": {
            "image/png": "[encoded data removed]",
            "text/plain": [
              "<Figure size 720x504 with 1 Axes>"
            ]
          },
          "metadata": {
            "tags": []
          }
        }
      ]
    },
    {
      "cell_type": "markdown",
      "metadata": {
        "id": "6FDkyLlMnIWC",
        "colab_type": "text"
      },
      "source": [
        " This suggests that those customers who have been insured by this company longer respondbetter. Moreover,theHighPolicyAgeandLowCLVsegmenthasthehighestengagement rate among the four segments. By creating different customer segments based on customer attributes, we can better understand how different groups of customers behave differently, and consequently, use this information to customize the marketing messagges.\n"
      ]
    },
    {
      "cell_type": "code",
      "metadata": {
        "id": "OfH1QHXBnJw7",
        "colab_type": "code",
        "colab": {}
      },
      "source": [
        ""
      ],
      "execution_count": 0,
      "outputs": []
    },
    {
      "cell_type": "markdown",
      "metadata": {
        "id": "ccCQKQnGnOGg",
        "colab_type": "text"
      },
      "source": [
        ""
      ]
    }
  ]
}